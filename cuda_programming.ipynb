{
  "nbformat": 4,
  "nbformat_minor": 0,
  "metadata": {
    "colab": {
      "provenance": [],
      "gpuType": "T4",
      "authorship_tag": "ABX9TyN9yHRmZuWLjHw9aTifIeFN",
      "include_colab_link": true
    },
    "kernelspec": {
      "name": "python3",
      "display_name": "Python 3"
    },
    "language_info": {
      "name": "python"
    },
    "accelerator": "GPU"
  },
  "cells": [
    {
      "cell_type": "markdown",
      "metadata": {
        "id": "view-in-github",
        "colab_type": "text"
      },
      "source": [
        "<a href=\"https://colab.research.google.com/github/edirizvani/AdvancedProgrammingTasks/blob/main/cuda_programming.ipynb\" target=\"_parent\"><img src=\"https://colab.research.google.com/assets/colab-badge.svg\" alt=\"Open In Colab\"/></a>"
      ]
    },
    {
      "cell_type": "code",
      "execution_count": 1,
      "metadata": {
        "colab": {
          "base_uri": "https://localhost:8080/"
        },
        "id": "1U3QV43FpFPp",
        "outputId": "4bec3741-aac7-4b57-945f-7641644e49ac"
      },
      "outputs": [
        {
          "output_type": "stream",
          "name": "stdout",
          "text": [
            "nvcc: NVIDIA (R) Cuda compiler driver\n",
            "Copyright (c) 2005-2024 NVIDIA Corporation\n",
            "Built on Thu_Jun__6_02:18:23_PDT_2024\n",
            "Cuda compilation tools, release 12.5, V12.5.82\n",
            "Build cuda_12.5.r12.5/compiler.34385749_0\n"
          ]
        }
      ],
      "source": [
        "!nvcc --version\n"
      ]
    },
    {
      "cell_type": "code",
      "source": [
        "!pip install nvcc4jupyter"
      ],
      "metadata": {
        "colab": {
          "base_uri": "https://localhost:8080/"
        },
        "id": "XAXZNV6BpWb_",
        "outputId": "6ced393f-515b-404d-fc16-ee138e9b1643"
      },
      "execution_count": 3,
      "outputs": [
        {
          "output_type": "stream",
          "name": "stdout",
          "text": [
            "Collecting nvcc4jupyter\n",
            "  Downloading nvcc4jupyter-1.2.1-py3-none-any.whl.metadata (5.1 kB)\n",
            "Downloading nvcc4jupyter-1.2.1-py3-none-any.whl (10 kB)\n",
            "Installing collected packages: nvcc4jupyter\n",
            "Successfully installed nvcc4jupyter-1.2.1\n"
          ]
        }
      ]
    },
    {
      "cell_type": "code",
      "source": [
        "%load_ext nvcc4jupyter"
      ],
      "metadata": {
        "colab": {
          "base_uri": "https://localhost:8080/"
        },
        "id": "ZleUKHDpppR6",
        "outputId": "613328a8-9c73-4fea-d27d-2d52bc4b0116"
      },
      "execution_count": 4,
      "outputs": [
        {
          "output_type": "stream",
          "name": "stdout",
          "text": [
            "Detected platform \"Colab\". Running its setup...\n",
            "Source files will be saved in \"/tmp/tmpf01ion_f\".\n"
          ]
        }
      ]
    },
    {
      "cell_type": "code",
      "source": [
        "%%writefile hello.cu\n",
        "#include <stdio.h>\n",
        "\n",
        "// CUDA kernel function\n",
        "__global__ void hello() {\n",
        "printf(\"Hello world! I'm thread %d in block %d \\n\",\n",
        "threadIdx.x, blockIdx.x);\n",
        "}\n",
        "\n",
        "int main() {\n",
        "    // Print from CPU side\n",
        "    printf(\"Hello world! I'm the main CPU thread\\n\");\n",
        "\n",
        "    // Define grid and block dimensions\n",
        "    int NUM_BLOCKS = 3;\n",
        "    int BLOCK_WIDTH = 4;\n",
        "\n",
        "    // Launch the kernel on GPU\n",
        "    hello<<<NUM_BLOCKS, BLOCK_WIDTH>>>();\n",
        "\n",
        "        // Check for kernel launch errors\n",
        "    cudaError_t err = cudaGetLastError();\n",
        "    if (err != cudaSuccess) {\n",
        "        printf(\"CUDA error: %s\\n\", cudaGetErrorString(err));\n",
        "    }\n",
        "\n",
        "    // Wait for the GPU to finish execution\n",
        "        cudaDeviceSynchronize();\n",
        "\n",
        "\n",
        "    // Print from CPU side\n",
        "    printf(\"That's all!\\n\");\n",
        "\n",
        "    return 0;\n",
        "}\n",
        "\n"
      ],
      "metadata": {
        "colab": {
          "base_uri": "https://localhost:8080/"
        },
        "id": "46wRbw5rpu3v",
        "outputId": "5ba79b24-9c6a-4290-9b3f-c12315e420fb"
      },
      "execution_count": 41,
      "outputs": [
        {
          "output_type": "stream",
          "name": "stdout",
          "text": [
            "Overwriting hello.cu\n"
          ]
        }
      ]
    },
    {
      "cell_type": "code",
      "source": [
        "!nvcc -arch=sm_75 hello.cu -o hello\n"
      ],
      "metadata": {
        "id": "_FE7aOCbqm_b"
      },
      "execution_count": 42,
      "outputs": []
    },
    {
      "cell_type": "code",
      "source": [
        "!./hello\n"
      ],
      "metadata": {
        "colab": {
          "base_uri": "https://localhost:8080/"
        },
        "id": "93w-dub8q_Qy",
        "outputId": "c8478375-0e10-4fb3-bb12-bbb61224e42f"
      },
      "execution_count": 43,
      "outputs": [
        {
          "output_type": "stream",
          "name": "stdout",
          "text": [
            "Hello world! I'm the main CPU thread\n",
            "Hello world! I'm thread 0 in block 2 \n",
            "Hello world! I'm thread 1 in block 2 \n",
            "Hello world! I'm thread 2 in block 2 \n",
            "Hello world! I'm thread 3 in block 2 \n",
            "Hello world! I'm thread 0 in block 0 \n",
            "Hello world! I'm thread 1 in block 0 \n",
            "Hello world! I'm thread 2 in block 0 \n",
            "Hello world! I'm thread 3 in block 0 \n",
            "Hello world! I'm thread 0 in block 1 \n",
            "Hello world! I'm thread 1 in block 1 \n",
            "Hello world! I'm thread 2 in block 1 \n",
            "Hello world! I'm thread 3 in block 1 \n",
            "That's all!\n"
          ]
        }
      ]
    },
    {
      "cell_type": "code",
      "source": [],
      "metadata": {
        "id": "rL3J0Hc9q_SF"
      },
      "execution_count": 24,
      "outputs": []
    }
  ]
}